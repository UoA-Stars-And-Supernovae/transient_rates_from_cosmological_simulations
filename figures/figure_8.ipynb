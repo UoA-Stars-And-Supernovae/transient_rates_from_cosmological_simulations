{
 "cells": [
  {
   "cell_type": "code",
   "execution_count": 1,
   "id": "bfb0d3f7",
   "metadata": {},
   "outputs": [],
   "source": [
    "import h5py\n",
    "import numpy as np\n",
    "import matplotlib.pyplot as plt\n",
    "import matplotlib as mpl\n",
    "from pylab import cm"
   ]
  },
  {
   "cell_type": "code",
   "execution_count": 25,
   "id": "2a4a973d",
   "metadata": {},
   "outputs": [],
   "source": [
    "# Plotting settings\n",
    "# use LaTeX fonts in the plot\n",
    "plt.rc('text', usetex=True)\n",
    "plt.rc('font', family='serif')\n",
    "plt.rcParams.update({'font.size': 22})\n",
    "plt.rcParams['axes.linewidth'] = 2\n",
    "\n",
    "cmap = cm.get_cmap('tab10', 10)\n",
    "colours = [cmap(0), cmap(1), cmap(3), cmap(4), cmap(5), cmap(6)]\n",
    "event_types = [\"IIP\", \"II\", \"PISNe\", \"LGRB\", \"Ib\", \"Ic\"]\n",
    "SFH_names = [\"millimillennium\", \"EAGLE\", \"TNG\",\"empirical\"]"
   ]
  },
  {
   "cell_type": "code",
   "execution_count": 3,
   "id": "697a0806",
   "metadata": {},
   "outputs": [],
   "source": [
    "path = \"../data/\""
   ]
  },
  {
   "cell_type": "code",
   "execution_count": 4,
   "id": "029bf510",
   "metadata": {},
   "outputs": [],
   "source": [
    "data = h5py.File(f\"{path}/data.h5\", \"r\")\n",
    "event_rates = data['event_rates']"
   ]
  },
  {
   "cell_type": "code",
   "execution_count": 8,
   "id": "dda0cbee",
   "metadata": {},
   "outputs": [],
   "source": [
    "# The event rates from different SFH have the same redshift bins\n",
    "redshift = event_rates.attrs['event_redshift'][:-1]"
   ]
  },
  {
   "cell_type": "code",
   "execution_count": 20,
   "id": "eb1f797c",
   "metadata": {},
   "outputs": [],
   "source": [
    "# Calculate the total number of events that result from massive stars\n",
    "\n",
    "total = {}\n",
    "for i in SFH_names:\n",
    "    total[i] = np.sum(np.sum([event_rates[i][j] for j in event_types], axis=0), axis=0)\n"
   ]
  },
  {
   "cell_type": "code",
   "execution_count": null,
   "id": "c20c0d9e",
   "metadata": {},
   "outputs": [],
   "source": []
  },
  {
   "cell_type": "code",
   "execution_count": 26,
   "id": "d26b8352",
   "metadata": {},
   "outputs": [
    {
     "name": "stderr",
     "output_type": "stream",
     "text": [
      "<ipython-input-26-641921841552>:23: RuntimeWarning: invalid value encountered in true_divide\n",
      "  axes[i].step(redshift, np.sum(event_rates[SFH][event], axis=0)/total[SFH], label=event, lw=2, color=colours[j])\n",
      "<ipython-input-26-641921841552>:23: RuntimeWarning: invalid value encountered in true_divide\n",
      "  axes[i].step(redshift, np.sum(event_rates[SFH][event], axis=0)/total[SFH], label=event, lw=2, color=colours[j])\n",
      "<ipython-input-26-641921841552>:23: RuntimeWarning: invalid value encountered in true_divide\n",
      "  axes[i].step(redshift, np.sum(event_rates[SFH][event], axis=0)/total[SFH], label=event, lw=2, color=colours[j])\n",
      "<ipython-input-26-641921841552>:23: RuntimeWarning: invalid value encountered in true_divide\n",
      "  axes[i].step(redshift, np.sum(event_rates[SFH][event], axis=0)/total[SFH], label=event, lw=2, color=colours[j])\n",
      "<ipython-input-26-641921841552>:23: RuntimeWarning: invalid value encountered in true_divide\n",
      "  axes[i].step(redshift, np.sum(event_rates[SFH][event], axis=0)/total[SFH], label=event, lw=2, color=colours[j])\n",
      "<ipython-input-26-641921841552>:23: RuntimeWarning: invalid value encountered in true_divide\n",
      "  axes[i].step(redshift, np.sum(event_rates[SFH][event], axis=0)/total[SFH], label=event, lw=2, color=colours[j])\n",
      "<ipython-input-26-641921841552>:23: RuntimeWarning: invalid value encountered in true_divide\n",
      "  axes[i].step(redshift, np.sum(event_rates[SFH][event], axis=0)/total[SFH], label=event, lw=2, color=colours[j])\n",
      "<ipython-input-26-641921841552>:23: RuntimeWarning: invalid value encountered in true_divide\n",
      "  axes[i].step(redshift, np.sum(event_rates[SFH][event], axis=0)/total[SFH], label=event, lw=2, color=colours[j])\n",
      "<ipython-input-26-641921841552>:23: RuntimeWarning: invalid value encountered in true_divide\n",
      "  axes[i].step(redshift, np.sum(event_rates[SFH][event], axis=0)/total[SFH], label=event, lw=2, color=colours[j])\n",
      "<ipython-input-26-641921841552>:23: RuntimeWarning: invalid value encountered in true_divide\n",
      "  axes[i].step(redshift, np.sum(event_rates[SFH][event], axis=0)/total[SFH], label=event, lw=2, color=colours[j])\n",
      "<ipython-input-26-641921841552>:23: RuntimeWarning: invalid value encountered in true_divide\n",
      "  axes[i].step(redshift, np.sum(event_rates[SFH][event], axis=0)/total[SFH], label=event, lw=2, color=colours[j])\n",
      "<ipython-input-26-641921841552>:23: RuntimeWarning: invalid value encountered in true_divide\n",
      "  axes[i].step(redshift, np.sum(event_rates[SFH][event], axis=0)/total[SFH], label=event, lw=2, color=colours[j])\n"
     ]
    },
    {
     "data": {
      "image/png": "[encoded data removed]",
      "text/plain": [
       "<Figure size 1440x360 with 4 Axes>"
      ]
     },
     "metadata": {
      "needs_background": "light"
     },
     "output_type": "display_data"
    }
   ],
   "source": [
    "fig, axes = plt.subplots(1,4, figsize=(20,5))\n",
    "fig.subplots_adjust(wspace=0.02)\n",
    "\n",
    "\n",
    "# give axis the same layout\n",
    "for ax in axes.flatten():\n",
    "    # Set the minor and major ticks on both axes\n",
    "    ax.xaxis.set_tick_params(which='major', size=10, width=2, direction='in', top='on')\n",
    "    ax.xaxis.set_tick_params(which='minor', size=7, width=2, direction='in')\n",
    "    ax.yaxis.set_tick_params(which='major', size=10, width=2, direction='in', right='on')\n",
    "    ax.yaxis.set_tick_params(which='minor', size=7, width=2, direction='in', right='on')\n",
    "\n",
    "    # set the location of the ticks\n",
    "    ax.xaxis.set_major_locator(mpl.ticker.MultipleLocator(2))\n",
    "    ax.xaxis.set_minor_locator(mpl.ticker.MultipleLocator(1))\n",
    "    ax.set_xlim(0,9.99999)\n",
    "    ax.set_ylim(1e-5,1)\n",
    "    ax.set_yscale('log')   \n",
    "    ax.grid()\n",
    "\n",
    "for i, SFH in enumerate(SFH_names):\n",
    "    for j, event in enumerate(event_types):\n",
    "        axes[i].step(redshift, np.sum(event_rates[SFH][event], axis=0)/total[SFH], label=event, lw=2, color=colours[j])\n",
    "    \n",
    "\n",
    "axes[1].set_yticklabels([])\n",
    "axes[2].set_yticklabels([])\n",
    "axes[3].set_yticklabels([])\n",
    "    \n",
    "axes[0].text(0.97, 0.13,f\"Millennium\", ha=\"right\", va=\"center\", transform=axes[0].transAxes, fontsize=30)\n",
    "axes[1].text(0.97, 0.13,f\"EAGLE\", ha=\"right\", va=\"center\", transform=axes[1].transAxes, fontsize=30)\n",
    "axes[2].text(0.97, 0.13,f\"TNG\", ha=\"right\", va=\"center\", transform=axes[2].transAxes, fontsize=30)\n",
    "axes[3].text(0.90, 0.13,f\"Empirical\", ha=\"right\", va=\"center\", transform=axes[3].transAxes, fontsize=30)\n",
    "\n",
    "axes[3].text(3, 9e-2, \"Ib\", color=colors(5), fontsize=26)\n",
    "axes[3].text(1, 3e-2, \"Ic\", color=colors(6), fontsize=26)\n",
    "axes[3].text(2.2, 1e-4,r\"PISN\", color=colors(3), fontsize=26)\n",
    "axes[3].text(2.2, 3e-3,r\"LGRB\", color=colors(4), fontsize=26)\n",
    "axes[3].text(6.2, 1.2e-1, \"II\", color=colors(1), fontsize=26)\n",
    "axes[3].text(8.5, 1.2e-1, \"IIP\", color=colors(0), fontsize=26)\n",
    "\n",
    "fig.text(0.08, 0.5, \"Fraction\", ha=\"center\", va=\"center\", rotation=\"vertical\")\n",
    "fig.text(0.51, 0.01, \"Redshift\", ha=\"center\", va=\"center\")\n",
    "\n",
    "plt.savefig(\"images/pdf/fractions_massive_star.pdf\", bbox_inches='tight')\n",
    "plt.show()"
   ]
  },
  {
   "cell_type": "code",
   "execution_count": 27,
   "id": "2e7093df",
   "metadata": {},
   "outputs": [],
   "source": [
    "data.close()"
   ]
  },
  {
   "cell_type": "code",
   "execution_count": null,
   "id": "e0599908",
   "metadata": {},
   "outputs": [],
   "source": []
  },
  {
   "cell_type": "code",
   "execution_count": null,
   "id": "83e06116",
   "metadata": {},
   "outputs": [],
   "source": []
  }
 ],
 "metadata": {
  "kernelspec": {
   "display_name": "Python 3",
   "language": "python",
   "name": "python3"
  },
  "language_info": {
   "codemirror_mode": {
    "name": "ipython",
    "version": 3
   },
   "file_extension": ".py",
   "mimetype": "text/x-python",
   "name": "python",
   "nbconvert_exporter": "python",
   "pygments_lexer": "ipython3",
   "version": "3.9.5"
  }
 },
 "nbformat": 4,
 "nbformat_minor": 5
}
